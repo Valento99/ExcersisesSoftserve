{
  "nbformat": 4,
  "nbformat_minor": 0,
  "metadata": {
    "colab": {
      "provenance": []
    },
    "kernelspec": {
      "name": "python3",
      "display_name": "Python 3"
    },
    "language_info": {
      "name": "python"
    }
  },
  "cells": [
    {
      "cell_type": "markdown",
      "source": [
        "**EXERCISES N. 1**\n",
        "\n",
        "Resolve the following exercises using a code editor, an IDE, or a Jupyter Notebook. Then, upload the files to a GitHub public repository. Finally, share the repository's URL as a response to this thread."
      ],
      "metadata": {
        "id": "aQAuPof4FTPa"
      }
    },
    {
      "cell_type": "markdown",
      "source": [
        "**Exercise 1**\n",
        "\n",
        "Write a program that:\n",
        "*   Asks the user for their current age.\n",
        "*   Calculates and displays their age 10 years from now"
      ],
      "metadata": {
        "id": "7JyoWwSSF9Z6"
      }
    },
    {
      "cell_type": "code",
      "execution_count": 4,
      "metadata": {
        "colab": {
          "base_uri": "https://localhost:8080/"
        },
        "id": "5Fs8d556Ejde",
        "outputId": "00e142f7-ebf2-4fa0-e8e0-6c42f897a15b"
      },
      "outputs": [
        {
          "output_type": "stream",
          "name": "stdout",
          "text": [
            "What is your current age?, Please enter: 10\n",
            "Your age plus 10 years is: 20\n"
          ]
        }
      ],
      "source": [
        "age=input(\"What is your current age?, Please enter: \")\n",
        "agePlusTen=print(\"Your age plus 10 years is:\", int(age)+10)"
      ]
    },
    {
      "cell_type": "markdown",
      "source": [
        "**Exercise 2**\n",
        "\n",
        "Write a program that:\n",
        "\n",
        "*   Asks the user for their favorite color, food, and hobby.\n",
        "*   Outputs a summary sentence using their inputs."
      ],
      "metadata": {
        "id": "mz0ee4W_IgUA"
      }
    },
    {
      "cell_type": "code",
      "source": [
        "color=input(\"What is your favorite Color? :\")\n",
        "food=input(\"What is your favorite food? :\")\n",
        "hobby=input(\"What is your favorite hobby? :\")\n",
        "\n",
        "print(f\"Your favorite color is {color}, you love eating {food}, and you enjoy {hobby} in your free time.\")"
      ],
      "metadata": {
        "colab": {
          "base_uri": "https://localhost:8080/"
        },
        "id": "jTv1dFN5Ityv",
        "outputId": "573d33bb-07fd-4553-ae39-cd5531e64b49"
      },
      "execution_count": 7,
      "outputs": [
        {
          "output_type": "stream",
          "name": "stdout",
          "text": [
            "What is your favorite Color? :Red\n",
            "What is your favorite food? :Pizza\n",
            "What is your favorite hobby? :Read\n",
            "Your favorite color is Red, you love eating Pizza, and you enjoy Read in your free time.\n"
          ]
        }
      ]
    },
    {
      "cell_type": "markdown",
      "source": [
        "**Exercise 3**\n",
        "\n",
        "Write a program that:\n",
        "\n",
        "*   Prompts the user to enter a temperature in Celsius.\n",
        "*   Converts it to Fahrenheit and displays the result."
      ],
      "metadata": {
        "id": "AOAZBbHuLnnm"
      }
    },
    {
      "cell_type": "code",
      "source": [
        "celsius=float(input(\"Please enter a temperature in Celsius that you want convert to Fahrenheit :\"))\n",
        "fahrenheit=((9/5)*celsius)+32\n",
        "print(f\"The {celsius} °C are equal to {fahrenheit} °F\")"
      ],
      "metadata": {
        "colab": {
          "base_uri": "https://localhost:8080/"
        },
        "id": "LoET1YxjLh2e",
        "outputId": "716cb652-c472-4702-a326-de32e92c6066"
      },
      "execution_count": 11,
      "outputs": [
        {
          "output_type": "stream",
          "name": "stdout",
          "text": [
            "Please enter a temperature in Celsius that you want convert to Fahrenheit :33\n",
            "The 33.0 °C are equal to 91.4 °F\n"
          ]
        }
      ]
    },
    {
      "cell_type": "markdown",
      "source": [
        "**Exercise 4**\n",
        "\n",
        "Write a program that:\n",
        "\n",
        "\n",
        "*   Asks the user to guess a number between 1 and 10.\n",
        "*   Outputs whether the guess is correct (assume the number is 7 for this exercise)."
      ],
      "metadata": {
        "id": "vlhcLbTqOkf1"
      }
    },
    {
      "cell_type": "code",
      "source": [
        "userNumber = 0\n",
        "while userNumber != 7:\n",
        "    userNumber = int(input(\"Hello! Play to guess a number between 1 and 10: \"))\n",
        "    if 1 <= userNumber <= 10:\n",
        "        if userNumber == 7:\n",
        "            print(\"That is correct!\")\n",
        "        else:\n",
        "            print(\"That is wrong, try again.\")\n",
        "    else:\n",
        "        print(\"Input number out of range. Please enter a number between 1 and 10.\")"
      ],
      "metadata": {
        "colab": {
          "base_uri": "https://localhost:8080/"
        },
        "id": "y5dzTvPyOuwU",
        "outputId": "f0404005-4918-4b43-872d-11f725b5c189"
      },
      "execution_count": 27,
      "outputs": [
        {
          "output_type": "stream",
          "name": "stdout",
          "text": [
            "Hello! Play to guess a number between 1 and 10: 2\n",
            "That is wrong, try again.\n",
            "Hello! Play to guess a number between 1 and 10: 11\n",
            "Input number out of range. Please enter a number between 1 and 10.\n",
            "Hello! Play to guess a number between 1 and 10: 7\n",
            "That is correct!\n"
          ]
        }
      ]
    },
    {
      "cell_type": "markdown",
      "source": [
        "**Exercise 5**\n",
        "\n",
        "Write a program that:\n",
        "\n",
        "*   Asks the user to input a word and a number.\n",
        "*   Prints the word repeated that number of times."
      ],
      "metadata": {
        "id": "uLnMsieTYwG4"
      }
    },
    {
      "cell_type": "code",
      "source": [
        "word=input(\"Please input a word :\")\n",
        "number=int(input(\"Please input a number :\"))\n",
        "print(word*number,sep=\"\")"
      ],
      "metadata": {
        "colab": {
          "base_uri": "https://localhost:8080/"
        },
        "id": "FNm9eLYUZIU4",
        "outputId": "05ea205f-4baa-4892-a616-8254b11ad712"
      },
      "execution_count": 40,
      "outputs": [
        {
          "output_type": "stream",
          "name": "stdout",
          "text": [
            "Please input a word :red \n",
            "Please input a number :5\n",
            "red red red red red \n"
          ]
        }
      ]
    },
    {
      "cell_type": "markdown",
      "source": [
        "**EXERCISES N. 2**\n",
        "\n",
        "**Exercise 1**\n",
        "\n",
        "Write a program that:\n",
        "\n",
        "\n",
        "*   Asks the user to enter a sentence.\n",
        "*   Outputs the sentence in all uppercase, all lowercase, and with the first letter of each word capitalized."
      ],
      "metadata": {
        "id": "C2Neeb9kfysN"
      }
    },
    {
      "cell_type": "code",
      "source": [
        "userSentence=input(\"Please give me your best motivational sentence : \")\n",
        "print(userSentence.upper())\n",
        "print(userSentence.lower())\n",
        "print(userSentence.title())"
      ],
      "metadata": {
        "colab": {
          "base_uri": "https://localhost:8080/"
        },
        "id": "upTs3I6mgSEV",
        "outputId": "8e7b5c41-96ae-4e5d-c8e9-9d7c4d6c569b"
      },
      "execution_count": 47,
      "outputs": [
        {
          "output_type": "stream",
          "name": "stdout",
          "text": [
            "Please give me your best motivational sentence : chanfle\n",
            "CHANFLE\n",
            "chanfle\n",
            "Chanfle\n"
          ]
        }
      ]
    },
    {
      "cell_type": "markdown",
      "source": [
        "**Exercise 2**\n",
        "\n",
        "Write a program that:\n",
        "\n",
        "\n",
        "*   Asks the user to input two boolean values (True or False).\n",
        "*   Evaluates and displays the results of logical operations (and, or, not) between the two values."
      ],
      "metadata": {
        "id": "KlzFQ4YRgM_u"
      }
    },
    {
      "cell_type": "code",
      "source": [
        "boolean1 = input(\"Input a boolean value (True or False): \").strip().capitalize() == \"True\"\n",
        "boolean2 = input(\"Input another boolean value (True or False): \").strip().capitalize() == \"True\"\n",
        "\n",
        "print(boolean1 and boolean2)\n",
        "print(boolean1 or boolean2)\n",
        "print((not boolean1) and (not boolean2))\n",
        "print((not boolean1) or (not boolean2))"
      ],
      "metadata": {
        "colab": {
          "base_uri": "https://localhost:8080/"
        },
        "id": "WMDJ6PI-kH8D",
        "outputId": "41bc87cb-b67e-4aa0-8f72-28b887d4de9a"
      },
      "execution_count": 56,
      "outputs": [
        {
          "output_type": "stream",
          "name": "stdout",
          "text": [
            "Input a boolean value (True or False): false \n",
            "Input another boolean value (True or False): false\n",
            "False\n",
            "False\n",
            "True\n",
            "True\n"
          ]
        }
      ]
    }
  ]
}