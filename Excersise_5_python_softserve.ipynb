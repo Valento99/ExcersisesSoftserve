{
  "nbformat": 4,
  "nbformat_minor": 0,
  "metadata": {
    "colab": {
      "provenance": []
    },
    "kernelspec": {
      "name": "python3",
      "display_name": "Python 3"
    },
    "language_info": {
      "name": "python"
    }
  },
  "cells": [
    {
      "cell_type": "markdown",
      "source": [
        "EXERCISES N. 5\n",
        "Resolve the following exercises using a code editor, an IDE, or a Jupyter Notebook. Then, upload the files to a GitHub public repository. Finally, share the repository's URL as a response to this thread.\n",
        "\n",
        "\n",
        "\n",
        "\n"
      ],
      "metadata": {
        "id": "C9kFT6vs673a"
      }
    },
    {
      "cell_type": "markdown",
      "source": [
        "Exercise 1\n",
        "Write a program that:\n",
        "Prompts the user to enter a series of numbers separated by spaces.\n",
        "Converts the input into a list of integers.\n",
        "Displays the list, its length, and the largest and smallest numbers in the list."
      ],
      "metadata": {
        "id": "QKUASNx0U8t2"
      }
    },
    {
      "cell_type": "code",
      "execution_count": null,
      "metadata": {
        "id": "K1tPDi2m6u3J",
        "colab": {
          "base_uri": "https://localhost:8080/"
        },
        "outputId": "cd1f49be-97d1-4b02-c2aa-03cea4f8d131"
      },
      "outputs": [
        {
          "output_type": "stream",
          "name": "stdout",
          "text": [
            "Enter a series of numbers separated by spaces: 1 2 3 4\n",
            "List of numbers: [1, 2, 3, 4]\n",
            "Length of the list: 4\n",
            "Largest number: 4\n",
            "Smallest number: 1\n"
          ]
        }
      ],
      "source": [
        "user_input = input(\"Enter a series of numbers separated by spaces: \")\n",
        "\n",
        "numbers = list(map(int, user_input.split()))\n",
        "\n",
        "print(\"List of numbers:\", numbers)\n",
        "\n",
        "print(\"Length of the list:\", len(numbers))\n",
        "\n",
        "print(\"Largest number:\", max(numbers))\n",
        "print(\"Smallest number:\", min(numbers))"
      ]
    },
    {
      "cell_type": "markdown",
      "source": [
        "Exercise 2\n",
        "Write a program that:\n",
        "Creates a tuple with five elements (hardcoded).\n",
        "Unpacks the tuple into separate variables and displays each variable."
      ],
      "metadata": {
        "id": "u0cWzMWQVzpL"
      }
    },
    {
      "cell_type": "code",
      "source": [
        "my_tuple = (10, 20, 30, 40, 50)\n",
        "a, b, c, d, e = my_tuple\n",
        "\n",
        "print(\"First element:\", a)\n",
        "print(\"Second element:\", b)\n",
        "print(\"Third element:\", c)\n",
        "print(\"Fourth element:\", d)\n",
        "print(\"Fifth element:\", e)"
      ],
      "metadata": {
        "colab": {
          "base_uri": "https://localhost:8080/"
        },
        "id": "sQJqZDWEVzUE",
        "outputId": "79f37aac-2b21-4159-822d-0e4445d2e8d4"
      },
      "execution_count": null,
      "outputs": [
        {
          "output_type": "stream",
          "name": "stdout",
          "text": [
            "First element: 10\n",
            "Second element: 20\n",
            "Third element: 30\n",
            "Fourth element: 40\n",
            "Fifth element: 50\n"
          ]
        }
      ]
    },
    {
      "cell_type": "markdown",
      "source": [
        "Exercise 3\n",
        "Write a program that:\n",
        "Asks the user to input two sets of numbers separated by commas.\n",
        "Converts the inputs into sets and performs the following operations:\n",
        "Union\n",
        "Intersection\n",
        "Difference (first set minus the second)"
      ],
      "metadata": {
        "id": "XL7ZK7SoWUaO"
      }
    },
    {
      "cell_type": "code",
      "source": [
        "set1_input = input(\"Enter the first set of numbers separated by commas: \")\n",
        "set2_input = input(\"Enter the second set of numbers separated by commas: \")\n",
        "\n",
        "set1 = set(map(int, set1_input.split(',')))\n",
        "set2 = set(map(int, set2_input.split(',')))\n",
        "\n",
        "print(\"Union:\", set1 | set2)\n",
        "print(\"Intersection:\", set1 & set2)\n",
        "print(\"Difference (first set minus second set):\", set1 - set2)"
      ],
      "metadata": {
        "colab": {
          "base_uri": "https://localhost:8080/"
        },
        "id": "nFqiGEPfWUF2",
        "outputId": "c2904428-c398-4094-dba2-c3599113d7ad"
      },
      "execution_count": null,
      "outputs": [
        {
          "output_type": "stream",
          "name": "stdout",
          "text": [
            "Enter the first set of numbers separated by commas: 1,2,3,4,5,6\n",
            "Enter the second set of numbers separated by commas: 2,4,6,8,10,12\n",
            "Union: {1, 2, 3, 4, 5, 6, 8, 10, 12}\n",
            "Intersection: {2, 4, 6}\n",
            "Difference (first set minus second set): {1, 3, 5}\n"
          ]
        }
      ]
    },
    {
      "cell_type": "markdown",
      "source": [
        "Exercise 4\n",
        "Write a program that:\n",
        "Prompts the user to input a series of key-value pairs in the format key:value separated by commas.\n",
        "Converts the input into a dictionary and displays it."
      ],
      "metadata": {
        "id": "trhC7Bh4W1np"
      }
    },
    {
      "cell_type": "code",
      "source": [
        "kv_input = input(\"Enter key-value pairs in the format key:value separated by commas: \")\n",
        "\n",
        "# Convert input into a dictionary\n",
        "dictionary = dict(item.split(\":\") for item in kv_input.split(\",\"))\n",
        "\n",
        "# Display the dictionary\n",
        "print(\"Dictionary:\", dictionary)"
      ],
      "metadata": {
        "id": "KzvChWt3W26A",
        "colab": {
          "base_uri": "https://localhost:8080/"
        },
        "outputId": "3cbf33fb-3996-45bc-c398-d9b494f6f19f"
      },
      "execution_count": 1,
      "outputs": [
        {
          "output_type": "stream",
          "name": "stdout",
          "text": [
            "Enter key-value pairs in the format key:value separated by commas: 1:dog,2:cat,3:rabbit\n",
            "Dictionary: {'1': 'dog', '2': 'cat', '3': 'rabbit'}\n"
          ]
        }
      ]
    },
    {
      "cell_type": "markdown",
      "source": [
        "Exercise 5\n",
        "Write a program that:\n",
        "Prompts the user to enter a sentence.\n",
        "Uses a dictionary to count and display the frequency of each word in the sentence."
      ],
      "metadata": {
        "id": "5hOLZuoWW7QA"
      }
    },
    {
      "cell_type": "code",
      "source": [
        "sentence = input(\"Enter a sentence: \")\n",
        "\n",
        "word_list = sentence.split()\n",
        "word_count = {}\n",
        "for word in word_list:\n",
        "    word_count[word] = word_count.get(word, 0) + 1\n",
        "\n",
        "print(\"Word frequency:\", word_count)"
      ],
      "metadata": {
        "id": "Ng_lvuISW7vI",
        "colab": {
          "base_uri": "https://localhost:8080/"
        },
        "outputId": "7db9f262-81a6-4461-cbdc-70d5888c9fb2"
      },
      "execution_count": 2,
      "outputs": [
        {
          "output_type": "stream",
          "name": "stdout",
          "text": [
            "Enter a sentence: This is a test sentence. This test is simple\n",
            "Word frequency: {'This': 2, 'is': 2, 'a': 1, 'test': 2, 'sentence.': 1, 'simple': 1}\n"
          ]
        }
      ]
    }
  ]
}