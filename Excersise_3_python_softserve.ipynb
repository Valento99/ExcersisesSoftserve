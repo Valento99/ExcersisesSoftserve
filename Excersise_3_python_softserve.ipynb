{
  "nbformat": 4,
  "nbformat_minor": 0,
  "metadata": {
    "colab": {
      "provenance": []
    },
    "kernelspec": {
      "name": "python3",
      "display_name": "Python 3"
    },
    "language_info": {
      "name": "python"
    }
  },
  "cells": [
    {
      "cell_type": "markdown",
      "source": [
        "**EXERCISES N.3**\n",
        "\n",
        "Resolve the following exercises using a code editor, an IDE, or a Jupyter Notebook. Then, upload the files to a GitHub public repository. Finally, share the repository's URL as a response to this thread."
      ],
      "metadata": {
        "id": "96r9FiVJMku-"
      }
    },
    {
      "cell_type": "markdown",
      "source": [
        "**Exercise 1**\n",
        "\n",
        "Write a program that:\n",
        "\n",
        "\n",
        "*   Asks the user for a year.\n",
        "*   Determines whether the year is a leap year.\n",
        "\n",
        "Hint: A leap year is divisible by 4 but not by 100 unless also divisible by 400."
      ],
      "metadata": {
        "id": "fGbDCTHjOemC"
      }
    },
    {
      "cell_type": "code",
      "execution_count": 30,
      "metadata": {
        "id": "EcIzYTl7MUsv",
        "colab": {
          "base_uri": "https://localhost:8080/"
        },
        "outputId": "f681b731-9211-4263-ac99-9204c4900962"
      },
      "outputs": [
        {
          "output_type": "stream",
          "name": "stdout",
          "text": [
            "Please input a year :2025\n",
            "No leap year\n"
          ]
        }
      ],
      "source": [
        "year=int(input('Please input a year :'))\n",
        "\n",
        "if (year%400==0) or (year%4==0 and year%100!=0):\n",
        "  print(\"Leap year\")\n",
        "else:\n",
        "  print(\"No leap year\")\n"
      ]
    },
    {
      "cell_type": "markdown",
      "source": [
        "**Exercise 2**\n",
        "\n",
        "Write a program that:\n",
        "\n",
        "*   Prompts the user to input two numbers and an operator (+, -, *, /).\n",
        "*   Performs the operation and displays the result."
      ],
      "metadata": {
        "id": "XznNK5WyTOLo"
      }
    },
    {
      "cell_type": "code",
      "source": [
        "print(\"Welcome this is a calculator\")\n",
        "num1=float(input(\"input one number : \"))\n",
        "num2=float(input(\"input other number : \"))\n",
        "operator=input(\"input an operator between(+, -, *, /)\")\n",
        "\n",
        "match operator:\n",
        "  case \"+\":\n",
        "    print(\"Adittion\")\n",
        "    print(f\"{num1} + {num2} =\",num1+num2)\n",
        "  case \"-\":\n",
        "    print(\"Subtraction\")\n",
        "    print(f\"{num1} - {num2} =\",num1-num2)\n",
        "  case \"*\":\n",
        "    print(\"Multiplication\")\n",
        "    print(f\"{num1} * {num2} =\",num1*num2)\n",
        "  case \"/\":\n",
        "    print(\"Division\")\n",
        "    print(f\"{num1}/{num2} =\",num1/num2)\n",
        "  case _:\n",
        "    print(\"Sorry The operator is no valid\")\n",
        ""
      ],
      "metadata": {
        "colab": {
          "base_uri": "https://localhost:8080/"
        },
        "id": "1iz-olKmTohy",
        "outputId": "807f109d-5eb5-47da-94cf-63f77f0894ad"
      },
      "execution_count": 29,
      "outputs": [
        {
          "output_type": "stream",
          "name": "stdout",
          "text": [
            "Welcome this is a calculator\n",
            "input one number : 2\n",
            "input other number : 9\n",
            "input an operator between(+, -, *, /)*\n",
            "Multiplication\n",
            "2.0 * 9.0 = 18.0\n"
          ]
        }
      ]
    },
    {
      "cell_type": "markdown",
      "source": [
        "**Exercise 3**\n",
        "Write a program that:\n",
        "\n",
        "\n",
        "\n",
        "*   Prompts the user to input a number.\n",
        "*   Classifies the number as positive, negative, or zero.\n",
        "\n",
        "\n",
        "\n",
        "\n"
      ],
      "metadata": {
        "id": "nHPAVWq6g0aE"
      }
    },
    {
      "cell_type": "code",
      "source": [
        "number=float(input(\"Hello, please enter a number to classify :\"))\n",
        "\n",
        "match number:\n",
        "  case x if x>0:\n",
        "    print(\"Number is positive\")\n",
        "  case x if x<0:\n",
        "    print(\"Number is negative\")\n",
        "  case 0:\n",
        "    print(\"Number is zero\")\n",
        "  case _:\n",
        "    print(\"Invalid input\")"
      ],
      "metadata": {
        "colab": {
          "base_uri": "https://localhost:8080/"
        },
        "id": "ufmXqVeEg_WU",
        "outputId": "81f82fb8-706b-476d-bc2b-2f3ae6343ead"
      },
      "execution_count": 20,
      "outputs": [
        {
          "output_type": "stream",
          "name": "stdout",
          "text": [
            "Hello, please enter a number to classify :12\n",
            "Number is positive\n"
          ]
        }
      ]
    },
    {
      "cell_type": "markdown",
      "source": [
        "**Exercise 4**\n",
        "\n",
        "Write a program using match...case that:\n",
        "\n",
        "*   Asks the user to input a number (1-7).\n",
        "*   Outputs the corresponding day of the week (e.g., 1 for Monday, 7 for Sunday)."
      ],
      "metadata": {
        "id": "iluchytLniK6"
      }
    },
    {
      "cell_type": "code",
      "source": [
        "dayNum = int(input(\"Hello, please enter a number between (1-7):\"))\n",
        "\n",
        "days_of_week = {\n",
        "    1: \"Monday\",\n",
        "    2: \"Tuesday\",\n",
        "    3: \"Wednesday\",\n",
        "    4: \"Thursday\",\n",
        "    5: \"Friday\",\n",
        "    6: \"Saturday\",\n",
        "    7: \"Sunday\"\n",
        "}\n",
        "print(days_of_week.get(dayNum, \"Invalid input\"))"
      ],
      "metadata": {
        "colab": {
          "base_uri": "https://localhost:8080/"
        },
        "id": "JD1qcyAHno4Z",
        "outputId": "3aeb923d-2a19-44f6-b978-dd2c17377cce"
      },
      "execution_count": 33,
      "outputs": [
        {
          "output_type": "stream",
          "name": "stdout",
          "text": [
            "Hello, please enter a number between (1-7):6\n",
            "Saturday\n"
          ]
        }
      ]
    },
    {
      "cell_type": "markdown",
      "source": [
        "**Exercise 5**\n",
        "\n",
        "Write a program that:\n",
        "\n",
        "*   Prompts the user to input a single character.\n",
        "*   Determines if the character is a vowel, consonant, digit, or special character."
      ],
      "metadata": {
        "id": "2TDwF6N7npT5"
      }
    },
    {
      "cell_type": "code",
      "source": [
        "character = input(\"Hello, Please enter a character: \")\n",
        "\n",
        "vowels = ['a', 'e', 'i', 'o', 'u']\n",
        "consonants = ['b', 'c', 'd', 'f', 'g', 'h', 'j', 'k', 'l', 'm', 'n', 'p', 'q', 'r', 's', 't', 'v', 'w', 'x', 'y', 'z']\n",
        "digits = ['0', '1', '2', '3', '4', '5', '6', '7', '8', '9']\n",
        "special_characters = ['!', '@', '#', '$', '%', '^', '&', '*', '(', ')', '-', '_', '=', '+', '[', ']', '{', '}', '\\\\', '|', ';', ':', \"'\", '\"', ',', '.', '/', '<', '>', '?', '~']\n",
        "\n",
        "match character:\n",
        "    case x if x in vowels:\n",
        "        print(\"Your input is a vowel\")\n",
        "    case x if x in consonants:\n",
        "        print(\"Your input is a consonant\")\n",
        "    case x if x in digits:\n",
        "        print(\"Your input is a digit\")\n",
        "    case x if x in special_characters:\n",
        "        print(\"Your input is a special character\")\n",
        "    case _:\n",
        "        print(\"Your input is invalid\")"
      ],
      "metadata": {
        "colab": {
          "base_uri": "https://localhost:8080/"
        },
        "id": "5t4qdvqrsy22",
        "outputId": "7bf382ac-bb2c-4aa4-f2c2-0799488de660"
      },
      "execution_count": 28,
      "outputs": [
        {
          "output_type": "stream",
          "name": "stdout",
          "text": [
            "Hello, Please enter a character: @\n",
            "Your input is a special character\n"
          ]
        }
      ]
    }
  ]
}