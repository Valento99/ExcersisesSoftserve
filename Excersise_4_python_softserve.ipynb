{
  "nbformat": 4,
  "nbformat_minor": 0,
  "metadata": {
    "colab": {
      "provenance": []
    },
    "kernelspec": {
      "name": "python3",
      "display_name": "Python 3"
    },
    "language_info": {
      "name": "python"
    }
  },
  "cells": [
    {
      "cell_type": "markdown",
      "source": [
        "**EXERCISES N. 4**\n",
        "\n",
        "Resolve the following exercises using a code editor, an IDE, or a Jupyter Notebook.\n",
        "\n",
        "Then, upload the files to a GitHub public repository. Finally, share the repository's URL as a response to this thread."
      ],
      "metadata": {
        "id": "yue40lkfy2zp"
      }
    },
    {
      "cell_type": "markdown",
      "source": [
        "**Exercise 1**\n",
        "\n",
        "Write a program that:\n",
        "\n",
        "*   Prompts the user to input a number.\n",
        "*   Uses a for loop to display its multiplication table up to 10."
      ],
      "metadata": {
        "id": "MZGB7IDav0n9"
      }
    },
    {
      "cell_type": "code",
      "source": [
        "entry = int(input(\"Please enter a number to show your multiplication table: \"))\n",
        "\n",
        "for i in range(1, 11):\n",
        "    print(f\"{entry} * {i} = {entry * i}\")"
      ],
      "metadata": {
        "id": "YZnhXJBYy2ES",
        "colab": {
          "base_uri": "https://localhost:8080/"
        },
        "outputId": "f65369ec-c609-4db7-8f6e-5123406fd75d"
      },
      "execution_count": 1,
      "outputs": [
        {
          "output_type": "stream",
          "name": "stdout",
          "text": [
            "Please enter a number to show your multiplication table: 46\n",
            "46 * 1 = 46\n",
            "46 * 2 = 92\n",
            "46 * 3 = 138\n",
            "46 * 4 = 184\n",
            "46 * 5 = 230\n",
            "46 * 6 = 276\n",
            "46 * 7 = 322\n",
            "46 * 8 = 368\n",
            "46 * 9 = 414\n",
            "46 * 10 = 460\n"
          ]
        }
      ]
    },
    {
      "cell_type": "markdown",
      "source": [
        "**Exercise 2**\n",
        "\n",
        "Write a program that:\n",
        "\n",
        "*   Uses a while loop to let the user guess a number (predefined in the program, e.g., 7).\n",
        "*   Provides feedback (\"Too high\", \"Too low\", or \"Correct\") and ends the loop when the user guesses correctly."
      ],
      "metadata": {
        "id": "7O3KY35JwVoN"
      }
    },
    {
      "cell_type": "code",
      "execution_count": 23,
      "metadata": {
        "id": "ynPykcj5ykrn",
        "colab": {
          "base_uri": "https://localhost:8080/"
        },
        "outputId": "0b7ff574-cef6-4652-add6-13a1aa1d29f1"
      },
      "outputs": [
        {
          "output_type": "stream",
          "name": "stdout",
          "text": [
            "Hello play to guess a number\n",
            "Enter a number between 1 and 10: 0\n",
            "Input number out of range. Please enter a number between 1 and 10.\n",
            "Enter a number between 1 and 10: 3\n",
            "Too Low\n",
            "Enter a number between 1 and 10: 8\n",
            "Too High.\n",
            "Enter a number between 1 and 10: 7\n",
            "That is correct!\n",
            "You are a Winner\n"
          ]
        }
      ],
      "source": [
        "userNumber,correctNumber = 0,7\n",
        "print(\"Hello play to guess a number\")\n",
        "while userNumber != correctNumber:\n",
        "    userNumber = int(input(\"Enter a number between 1 and 10: \"))\n",
        "    if 1 <= userNumber <= 10:\n",
        "        if userNumber == 7:\n",
        "            print(\"That is correct!\")\n",
        "            print(\"You are a Winner\")\n",
        "        elif userNumber<correctNumber:\n",
        "            print(\"Too Low\")\n",
        "        else:\n",
        "            print(\"Too High.\")\n",
        "    else:\n",
        "        print(\"Input number out of range. Please enter a number between 1 and 10.\")"
      ]
    },
    {
      "cell_type": "markdown",
      "source": [
        "**Exercise 3**\n",
        "\n",
        "Write a program that:\n",
        "\n",
        "*   Prompts the user to enter a string.\n",
        "*   Uses a for loop to count and display the number of vowels (a, e, i, o, u) in the string."
      ],
      "metadata": {
        "id": "CcFTurFOwsvl"
      }
    },
    {
      "cell_type": "code",
      "source": [
        "word=input(\"Hello, Please enter a word = \")\n",
        "\n",
        "vowels=[\"a\",\"e\",\"i\",\"o\",\"u\",\"A\",\"E\",\"I\",\"O\",\"U\"]\n",
        "counter=0\n",
        "\n",
        "for e in word:\n",
        "  if e in vowels:\n",
        "    counter+=1\n",
        "print(f\"the number of vowels in this word is equal to = {counter}\")"
      ],
      "metadata": {
        "id": "p4MLnBESw89V",
        "colab": {
          "base_uri": "https://localhost:8080/"
        },
        "outputId": "8dfa1ee2-6c69-4e65-ca7f-1a712ebf78a5"
      },
      "execution_count": 32,
      "outputs": [
        {
          "output_type": "stream",
          "name": "stdout",
          "text": [
            "Hello, Please enter a word = cArLiTOs\n",
            "the number of vowels in this word is equal to = 3\n"
          ]
        }
      ]
    },
    {
      "cell_type": "markdown",
      "source": [
        "**Exercise 4**\n",
        "\n",
        "Write a program that:\n",
        "\n",
        "*   Prompts the user to input a string.\n",
        "*   Uses a for loop to reverse the string and display the result."
      ],
      "metadata": {
        "id": "E4YAClTtw9TN"
      }
    },
    {
      "cell_type": "code",
      "source": [
        "entrance=input(\"Please enter a word = \")\n",
        "inverted=\"\"\n",
        "for o in entrance:\n",
        "  inverted= o + inverted\n",
        "\n",
        "print(inverted)"
      ],
      "metadata": {
        "id": "PdCUjQq5xLlF",
        "colab": {
          "base_uri": "https://localhost:8080/"
        },
        "outputId": "eef7fd73-b14d-41d4-c249-0f53e25877af"
      },
      "execution_count": 21,
      "outputs": [
        {
          "output_type": "stream",
          "name": "stdout",
          "text": [
            "Please enter a word = python\n",
            "nohtyp\n"
          ]
        }
      ]
    },
    {
      "cell_type": "markdown",
      "source": [
        "**Exercise 5**\n",
        "\n",
        "Write a program that:\n",
        "\n",
        "Uses a for loop to iterate through numbers from 1 to 50.\n",
        "\n",
        "*   For multiples of 3, print \"Fizz\"\n",
        "*   For multiples of 5, print \"Buzz\".\n",
        "*   For multiples of both 3 and 5, print \"FizzBuzz\".\n",
        "*   Otherwise, print the number."
      ],
      "metadata": {
        "id": "Q4B8ljG3xMC9"
      }
    },
    {
      "cell_type": "code",
      "source": [
        "for p in range(1,51):\n",
        "  if p%5==0 and p%3==0:\n",
        "    print(\"FizzBuzz\")\n",
        "  elif p%5==0:\n",
        "    print(\"Buzz\")\n",
        "  elif p%3==0:\n",
        "    print(\"Fizz\")\n",
        "  else:\n",
        "    print(p)"
      ],
      "metadata": {
        "id": "QYXvEODmxjvN",
        "colab": {
          "base_uri": "https://localhost:8080/"
        },
        "outputId": "68dec19e-1de6-4d6b-9533-ca5eb895c123"
      },
      "execution_count": 20,
      "outputs": [
        {
          "output_type": "stream",
          "name": "stdout",
          "text": [
            "1\n",
            "2\n",
            "Fizz\n",
            "4\n",
            "Buzz\n",
            "Fizz\n",
            "7\n",
            "8\n",
            "Fizz\n",
            "Buzz\n",
            "11\n",
            "Fizz\n",
            "13\n",
            "14\n",
            "FizzBuzz\n",
            "16\n",
            "17\n",
            "Fizz\n",
            "19\n",
            "Buzz\n",
            "Fizz\n",
            "22\n",
            "23\n",
            "Fizz\n",
            "Buzz\n",
            "26\n",
            "Fizz\n",
            "28\n",
            "29\n",
            "FizzBuzz\n",
            "31\n",
            "32\n",
            "Fizz\n",
            "34\n",
            "Buzz\n",
            "Fizz\n",
            "37\n",
            "38\n",
            "Fizz\n",
            "Buzz\n",
            "41\n",
            "Fizz\n",
            "43\n",
            "44\n",
            "FizzBuzz\n",
            "46\n",
            "47\n",
            "Fizz\n",
            "49\n",
            "Buzz\n"
          ]
        }
      ]
    }
  ]
}