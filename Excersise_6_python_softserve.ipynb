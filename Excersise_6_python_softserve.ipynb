{
  "nbformat": 4,
  "nbformat_minor": 0,
  "metadata": {
    "colab": {
      "provenance": []
    },
    "kernelspec": {
      "name": "python3",
      "display_name": "Python 3"
    },
    "language_info": {
      "name": "python"
    }
  },
  "cells": [
    {
      "cell_type": "markdown",
      "source": [
        "EXERCISES N. 6\n",
        "Resolve the following exercises using a code editor, an IDE, or a Jupyter Notebook. Then, upload the files to a GitHub public repository. Finally, share the repository's URL as a response to this thread."
      ],
      "metadata": {
        "id": "p8HYIuvhn8M2"
      }
    },
    {
      "cell_type": "markdown",
      "source": [
        "Exercise 1\n",
        "Write a recursive function factorial(n) that:\n",
        "Takes a single parameter n (an integer).\n",
        "Returns the factorial of n."
      ],
      "metadata": {
        "id": "eepHJPtOqAHG"
      }
    },
    {
      "cell_type": "code",
      "execution_count": 3,
      "metadata": {
        "colab": {
          "base_uri": "https://localhost:8080/"
        },
        "id": "_LsD8Q2Qnuru",
        "outputId": "028f76f7-f6eb-46a1-f7a1-eb21f4cde56d"
      },
      "outputs": [
        {
          "output_type": "execute_result",
          "data": {
            "text/plain": [
              "120"
            ]
          },
          "metadata": {},
          "execution_count": 3
        }
      ],
      "source": [
        "def factorial(n):\n",
        "    if n == 0 or n == 1:\n",
        "        return 1\n",
        "    return n * factorial(n - 1)\n",
        "\n",
        "factorial(5)"
      ]
    },
    {
      "cell_type": "markdown",
      "source": [
        "Exercise 2\n",
        "Write a function is_prime(n) that:\n",
        "Takes a single parameter n (an integer).\n",
        "Returns True if the number is prime, otherwise False."
      ],
      "metadata": {
        "id": "unKJSBBDqBnu"
      }
    },
    {
      "cell_type": "code",
      "source": [
        "def is_prime(n):\n",
        "    if n < 2:\n",
        "        return False\n",
        "    for i in range(2, int(n ** 0.5) + 1):\n",
        "        if n % i == 0:\n",
        "            return False\n",
        "    return True\n",
        "\n",
        "print(is_prime(11))\n",
        "print(is_prime(6))"
      ],
      "metadata": {
        "colab": {
          "base_uri": "https://localhost:8080/"
        },
        "id": "mgMCakDjpHjm",
        "outputId": "22b0f8a1-c031-45b1-ba14-b47592906c7e"
      },
      "execution_count": 6,
      "outputs": [
        {
          "output_type": "stream",
          "name": "stdout",
          "text": [
            "True\n",
            "False\n"
          ]
        }
      ]
    },
    {
      "cell_type": "markdown",
      "source": [
        "Exercise 3\n",
        "Write a function power(base, exponent=2) that:\n",
        "Takes two parameters: base (a number) and exponent (a number, default is 2).\n",
        "Returns the result of raising base to the power of exponent."
      ],
      "metadata": {
        "id": "-iqJtOtLqGem"
      }
    },
    {
      "cell_type": "code",
      "source": [
        "def power(base, exponent=2):\n",
        "    return base ** exponent\n",
        "\n",
        "power(8,3)"
      ],
      "metadata": {
        "colab": {
          "base_uri": "https://localhost:8080/"
        },
        "id": "aW_8cSbMpHeH",
        "outputId": "e44faa9a-85a0-48f3-ecbc-0d701e9c3c8c"
      },
      "execution_count": 12,
      "outputs": [
        {
          "output_type": "execute_result",
          "data": {
            "text/plain": [
              "512"
            ]
          },
          "metadata": {},
          "execution_count": 12
        }
      ]
    },
    {
      "cell_type": "markdown",
      "source": [
        "Exercise 4\n",
        "Write a function find_max(numbers) that:\n",
        "Takes a single parameter numbers (a list of integers or floats).\n",
        "Returns the largest number in the list."
      ],
      "metadata": {
        "id": "8gKOHQIoqPMQ"
      }
    },
    {
      "cell_type": "code",
      "source": [
        "def find_max(numbers):\n",
        "    return max(numbers)\n",
        "\n",
        "find_max([2,7,9,4,1])"
      ],
      "metadata": {
        "colab": {
          "base_uri": "https://localhost:8080/"
        },
        "id": "LJBbIGs2pHam",
        "outputId": "3f18e92d-0ebe-4867-bc04-291092b565bf"
      },
      "execution_count": 14,
      "outputs": [
        {
          "output_type": "execute_result",
          "data": {
            "text/plain": [
              "9"
            ]
          },
          "metadata": {},
          "execution_count": 14
        }
      ]
    },
    {
      "cell_type": "markdown",
      "source": [
        "Exercise 5\n",
        "Write a function fibonacci(n) that:\n",
        "Takes a single parameter n (an integer).\n",
        "Returns a list containing the first n numbers in the Fibonacci sequence."
      ],
      "metadata": {
        "id": "MJE9oH9iqUUY"
      }
    },
    {
      "cell_type": "code",
      "source": [
        "def fibonacci(n):\n",
        "    sequence = [0, 1]\n",
        "    for _ in range(n - 2):\n",
        "        sequence.append(sequence[-1] + sequence[-2])\n",
        "    return sequence[:n]\n",
        "fibonacci(6)"
      ],
      "metadata": {
        "colab": {
          "base_uri": "https://localhost:8080/"
        },
        "id": "RRMhsUl9oqJ7",
        "outputId": "ee27d675-6b6d-42f2-bb35-dd14b24e7072"
      },
      "execution_count": 4,
      "outputs": [
        {
          "output_type": "execute_result",
          "data": {
            "text/plain": [
              "[0, 1, 1, 2, 3, 5]"
            ]
          },
          "metadata": {},
          "execution_count": 4
        }
      ]
    }
  ]
}